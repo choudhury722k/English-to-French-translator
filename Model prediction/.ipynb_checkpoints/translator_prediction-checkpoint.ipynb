{
 "cells": [
  {
   "cell_type": "code",
   "execution_count": 1,
   "id": "a8235d23",
   "metadata": {},
   "outputs": [],
   "source": [
    "from tensorflow.keras.preprocessing.text import Tokenizer\n",
    "from tensorflow.keras.preprocessing.sequence import pad_sequences\n",
    "from tensorflow.keras import models \n",
    "import numpy as np\n",
    "import pickle\n",
    "\n",
    "french_tokenizer = pickle.load(open('french_tokenizer.pickle', 'rb'))\n",
    "english_tokenizer = pickle.load(open('english_tokenizer.pickle', 'rb'))\n",
    "model = models.load_model(\"translator_model.h5\")\n",
    "\n",
    "y_id_to_word = {value: key for key, value in french_tokenizer.word_index.items()}\n",
    "y_id_to_word[0] = '<PAD>'\n",
    "#y_id_to_word\n",
    "\n",
    "def eng_to_french(data):\n",
    "    sentence = [english_tokenizer.word_index[word] for word in data.split()]\n",
    "    #sentence\n",
    "    sentence = pad_sequences([sentence], maxlen=15, padding='post')\n",
    "    sentences = np.array([sentence[0]])\n",
    "    predictions = model.predict(sentences, len(sentences))\n",
    "    x = ' '.join([y_id_to_word[np.argmax(x)] for x in predictions[0]])\n",
    "    if '<PAD>' in x:\n",
    "        x=x.replace('<PAD>','')\n",
    "    print(x.type())\n",
    "    return x"
   ]
  },
  {
   "cell_type": "code",
   "execution_count": 2,
   "id": "51f37348",
   "metadata": {},
   "outputs": [
    {
     "name": "stdout",
     "output_type": "stream",
     "text": [
      "il a vu un vieux camion jaune              \n",
      "Il a vu un vieux camion jaune\n"
     ]
    }
   ],
   "source": [
    "data = 'he saw a old yellow truck'\n",
    "print(eng_to_french(data))\n",
    "print('Il a vu un vieux camion jaune')"
   ]
  },
  {
   "cell_type": "code",
   "execution_count": null,
   "id": "cd6e1368",
   "metadata": {},
   "outputs": [],
   "source": []
  }
 ],
 "metadata": {
  "kernelspec": {
   "display_name": "Python 3 (ipykernel)",
   "language": "python",
   "name": "python3"
  },
  "language_info": {
   "codemirror_mode": {
    "name": "ipython",
    "version": 3
   },
   "file_extension": ".py",
   "mimetype": "text/x-python",
   "name": "python",
   "nbconvert_exporter": "python",
   "pygments_lexer": "ipython3",
   "version": "3.9.7"
  }
 },
 "nbformat": 4,
 "nbformat_minor": 5
}
