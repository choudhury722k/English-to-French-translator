{
 "cells": [
  {
   "cell_type": "markdown",
   "metadata": {
    "collapsed": true
   },
   "source": [
    "## Machine Translation\n",
    "English to french"
   ]
  },
  {
   "cell_type": "code",
   "execution_count": 1,
   "metadata": {},
   "outputs": [
    {
     "ename": "AlreadyExistsError",
     "evalue": "Another metric with the same name already exists.",
     "output_type": "error",
     "traceback": [
      "\u001b[1;31m---------------------------------------------------------------------------\u001b[0m",
      "\u001b[1;31mAlreadyExistsError\u001b[0m                        Traceback (most recent call last)",
      "\u001b[1;32m~\\AppData\\Local\\Temp/ipykernel_28624/716784071.py\u001b[0m in \u001b[0;36m<module>\u001b[1;34m\u001b[0m\n\u001b[0;32m      3\u001b[0m \u001b[1;32mimport\u001b[0m \u001b[0mnumpy\u001b[0m \u001b[1;32mas\u001b[0m \u001b[0mnp\u001b[0m\u001b[1;33m\u001b[0m\u001b[1;33m\u001b[0m\u001b[0m\n\u001b[0;32m      4\u001b[0m \u001b[1;33m\u001b[0m\u001b[0m\n\u001b[1;32m----> 5\u001b[1;33m \u001b[1;32mfrom\u001b[0m \u001b[0mtensorflow\u001b[0m\u001b[1;33m.\u001b[0m\u001b[0mkeras\u001b[0m\u001b[1;33m.\u001b[0m\u001b[0mpreprocessing\u001b[0m\u001b[1;33m.\u001b[0m\u001b[0mtext\u001b[0m \u001b[1;32mimport\u001b[0m \u001b[0mTokenizer\u001b[0m\u001b[1;33m\u001b[0m\u001b[1;33m\u001b[0m\u001b[0m\n\u001b[0m\u001b[0;32m      6\u001b[0m \u001b[1;32mfrom\u001b[0m \u001b[0mtensorflow\u001b[0m\u001b[1;33m.\u001b[0m\u001b[0mkeras\u001b[0m\u001b[1;33m.\u001b[0m\u001b[0mpreprocessing\u001b[0m\u001b[1;33m.\u001b[0m\u001b[0msequence\u001b[0m \u001b[1;32mimport\u001b[0m \u001b[0mpad_sequences\u001b[0m\u001b[1;33m\u001b[0m\u001b[1;33m\u001b[0m\u001b[0m\n\u001b[0;32m      7\u001b[0m \u001b[1;32mfrom\u001b[0m \u001b[0mtensorflow\u001b[0m\u001b[1;33m.\u001b[0m\u001b[0mkeras\u001b[0m\u001b[1;33m.\u001b[0m\u001b[0mmodels\u001b[0m \u001b[1;32mimport\u001b[0m \u001b[0mModel\u001b[0m\u001b[1;33m\u001b[0m\u001b[1;33m\u001b[0m\u001b[0m\n",
      "\u001b[1;32m~\\.conda\\envs\\tf_gpu\\lib\\site-packages\\keras\\api\\_v2\\keras\\__init__.py\u001b[0m in \u001b[0;36m<module>\u001b[1;34m\u001b[0m\n\u001b[0;32m      6\u001b[0m \u001b[1;32mimport\u001b[0m \u001b[0msys\u001b[0m \u001b[1;32mas\u001b[0m \u001b[0m_sys\u001b[0m\u001b[1;33m\u001b[0m\u001b[1;33m\u001b[0m\u001b[0m\n\u001b[0;32m      7\u001b[0m \u001b[1;33m\u001b[0m\u001b[0m\n\u001b[1;32m----> 8\u001b[1;33m \u001b[1;32mfrom\u001b[0m \u001b[0mkeras\u001b[0m \u001b[1;32mimport\u001b[0m \u001b[0m__version__\u001b[0m\u001b[1;33m\u001b[0m\u001b[1;33m\u001b[0m\u001b[0m\n\u001b[0m\u001b[0;32m      9\u001b[0m \u001b[1;32mfrom\u001b[0m \u001b[0mkeras\u001b[0m\u001b[1;33m.\u001b[0m\u001b[0mapi\u001b[0m\u001b[1;33m.\u001b[0m\u001b[0m_v2\u001b[0m\u001b[1;33m.\u001b[0m\u001b[0mkeras\u001b[0m \u001b[1;32mimport\u001b[0m \u001b[0m__internal__\u001b[0m\u001b[1;33m\u001b[0m\u001b[1;33m\u001b[0m\u001b[0m\n\u001b[0;32m     10\u001b[0m \u001b[1;32mfrom\u001b[0m \u001b[0mkeras\u001b[0m\u001b[1;33m.\u001b[0m\u001b[0mapi\u001b[0m\u001b[1;33m.\u001b[0m\u001b[0m_v2\u001b[0m\u001b[1;33m.\u001b[0m\u001b[0mkeras\u001b[0m \u001b[1;32mimport\u001b[0m \u001b[0mactivations\u001b[0m\u001b[1;33m\u001b[0m\u001b[1;33m\u001b[0m\u001b[0m\n",
      "\u001b[1;32m~\\.conda\\envs\\tf_gpu\\lib\\site-packages\\keras\\__init__.py\u001b[0m in \u001b[0;36m<module>\u001b[1;34m\u001b[0m\n\u001b[0;32m     23\u001b[0m \u001b[1;33m\u001b[0m\u001b[0m\n\u001b[0;32m     24\u001b[0m \u001b[1;31m# See b/110718070#comment18 for more details about this import.\u001b[0m\u001b[1;33m\u001b[0m\u001b[1;33m\u001b[0m\u001b[0m\n\u001b[1;32m---> 25\u001b[1;33m \u001b[1;32mfrom\u001b[0m \u001b[0mkeras\u001b[0m \u001b[1;32mimport\u001b[0m \u001b[0mmodels\u001b[0m\u001b[1;33m\u001b[0m\u001b[1;33m\u001b[0m\u001b[0m\n\u001b[0m\u001b[0;32m     26\u001b[0m \u001b[1;33m\u001b[0m\u001b[0m\n\u001b[0;32m     27\u001b[0m \u001b[1;32mfrom\u001b[0m \u001b[0mkeras\u001b[0m\u001b[1;33m.\u001b[0m\u001b[0mengine\u001b[0m\u001b[1;33m.\u001b[0m\u001b[0minput_layer\u001b[0m \u001b[1;32mimport\u001b[0m \u001b[0mInput\u001b[0m\u001b[1;33m\u001b[0m\u001b[1;33m\u001b[0m\u001b[0m\n",
      "\u001b[1;32m~\\.conda\\envs\\tf_gpu\\lib\\site-packages\\keras\\models.py\u001b[0m in \u001b[0;36m<module>\u001b[1;34m\u001b[0m\n\u001b[0;32m     18\u001b[0m \u001b[1;32mimport\u001b[0m \u001b[0mtensorflow\u001b[0m\u001b[1;33m.\u001b[0m\u001b[0mcompat\u001b[0m\u001b[1;33m.\u001b[0m\u001b[0mv2\u001b[0m \u001b[1;32mas\u001b[0m \u001b[0mtf\u001b[0m\u001b[1;33m\u001b[0m\u001b[1;33m\u001b[0m\u001b[0m\n\u001b[0;32m     19\u001b[0m \u001b[1;32mfrom\u001b[0m \u001b[0mkeras\u001b[0m \u001b[1;32mimport\u001b[0m \u001b[0mbackend\u001b[0m\u001b[1;33m\u001b[0m\u001b[1;33m\u001b[0m\u001b[0m\n\u001b[1;32m---> 20\u001b[1;33m \u001b[1;32mfrom\u001b[0m \u001b[0mkeras\u001b[0m \u001b[1;32mimport\u001b[0m \u001b[0mmetrics\u001b[0m \u001b[1;32mas\u001b[0m \u001b[0mmetrics_module\u001b[0m\u001b[1;33m\u001b[0m\u001b[1;33m\u001b[0m\u001b[0m\n\u001b[0m\u001b[0;32m     21\u001b[0m \u001b[1;32mfrom\u001b[0m \u001b[0mkeras\u001b[0m \u001b[1;32mimport\u001b[0m \u001b[0moptimizer_v1\u001b[0m\u001b[1;33m\u001b[0m\u001b[1;33m\u001b[0m\u001b[0m\n\u001b[0;32m     22\u001b[0m \u001b[1;32mfrom\u001b[0m \u001b[0mkeras\u001b[0m\u001b[1;33m.\u001b[0m\u001b[0mengine\u001b[0m \u001b[1;32mimport\u001b[0m \u001b[0mfunctional\u001b[0m\u001b[1;33m\u001b[0m\u001b[1;33m\u001b[0m\u001b[0m\n",
      "\u001b[1;32m~\\.conda\\envs\\tf_gpu\\lib\\site-packages\\keras\\metrics.py\u001b[0m in \u001b[0;36m<module>\u001b[1;34m\u001b[0m\n\u001b[0;32m     22\u001b[0m \u001b[1;32mimport\u001b[0m \u001b[0mwarnings\u001b[0m\u001b[1;33m\u001b[0m\u001b[1;33m\u001b[0m\u001b[0m\n\u001b[0;32m     23\u001b[0m \u001b[1;33m\u001b[0m\u001b[0m\n\u001b[1;32m---> 24\u001b[1;33m \u001b[1;32mfrom\u001b[0m \u001b[0mkeras\u001b[0m \u001b[1;32mimport\u001b[0m \u001b[0mactivations\u001b[0m\u001b[1;33m\u001b[0m\u001b[1;33m\u001b[0m\u001b[0m\n\u001b[0m\u001b[0;32m     25\u001b[0m \u001b[1;32mfrom\u001b[0m \u001b[0mkeras\u001b[0m \u001b[1;32mimport\u001b[0m \u001b[0mbackend\u001b[0m\u001b[1;33m\u001b[0m\u001b[1;33m\u001b[0m\u001b[0m\n\u001b[0;32m     26\u001b[0m \u001b[1;32mfrom\u001b[0m \u001b[0mkeras\u001b[0m\u001b[1;33m.\u001b[0m\u001b[0mengine\u001b[0m \u001b[1;32mimport\u001b[0m \u001b[0mbase_layer\u001b[0m\u001b[1;33m\u001b[0m\u001b[1;33m\u001b[0m\u001b[0m\n",
      "\u001b[1;32m~\\.conda\\envs\\tf_gpu\\lib\\site-packages\\keras\\activations.py\u001b[0m in \u001b[0;36m<module>\u001b[1;34m\u001b[0m\n\u001b[0;32m     18\u001b[0m \u001b[1;33m\u001b[0m\u001b[0m\n\u001b[0;32m     19\u001b[0m \u001b[1;32mfrom\u001b[0m \u001b[0mkeras\u001b[0m \u001b[1;32mimport\u001b[0m \u001b[0mbackend\u001b[0m\u001b[1;33m\u001b[0m\u001b[1;33m\u001b[0m\u001b[0m\n\u001b[1;32m---> 20\u001b[1;33m \u001b[1;32mfrom\u001b[0m \u001b[0mkeras\u001b[0m\u001b[1;33m.\u001b[0m\u001b[0mlayers\u001b[0m \u001b[1;32mimport\u001b[0m \u001b[0madvanced_activations\u001b[0m\u001b[1;33m\u001b[0m\u001b[1;33m\u001b[0m\u001b[0m\n\u001b[0m\u001b[0;32m     21\u001b[0m \u001b[1;32mfrom\u001b[0m \u001b[0mkeras\u001b[0m\u001b[1;33m.\u001b[0m\u001b[0mutils\u001b[0m\u001b[1;33m.\u001b[0m\u001b[0mgeneric_utils\u001b[0m \u001b[1;32mimport\u001b[0m \u001b[0mdeserialize_keras_object\u001b[0m\u001b[1;33m\u001b[0m\u001b[1;33m\u001b[0m\u001b[0m\n\u001b[0;32m     22\u001b[0m \u001b[1;32mfrom\u001b[0m \u001b[0mkeras\u001b[0m\u001b[1;33m.\u001b[0m\u001b[0mutils\u001b[0m\u001b[1;33m.\u001b[0m\u001b[0mgeneric_utils\u001b[0m \u001b[1;32mimport\u001b[0m \u001b[0mserialize_keras_object\u001b[0m\u001b[1;33m\u001b[0m\u001b[1;33m\u001b[0m\u001b[0m\n",
      "\u001b[1;32m~\\.conda\\envs\\tf_gpu\\lib\\site-packages\\keras\\layers\\__init__.py\u001b[0m in \u001b[0;36m<module>\u001b[1;34m\u001b[0m\n\u001b[0;32m     21\u001b[0m \u001b[1;33m\u001b[0m\u001b[0m\n\u001b[0;32m     22\u001b[0m \u001b[1;31m# Generic layers.\u001b[0m\u001b[1;33m\u001b[0m\u001b[1;33m\u001b[0m\u001b[0m\n\u001b[1;32m---> 23\u001b[1;33m \u001b[1;32mfrom\u001b[0m \u001b[0mkeras\u001b[0m\u001b[1;33m.\u001b[0m\u001b[0mengine\u001b[0m\u001b[1;33m.\u001b[0m\u001b[0minput_layer\u001b[0m \u001b[1;32mimport\u001b[0m \u001b[0mInput\u001b[0m\u001b[1;33m\u001b[0m\u001b[1;33m\u001b[0m\u001b[0m\n\u001b[0m\u001b[0;32m     24\u001b[0m \u001b[1;32mfrom\u001b[0m \u001b[0mkeras\u001b[0m\u001b[1;33m.\u001b[0m\u001b[0mengine\u001b[0m\u001b[1;33m.\u001b[0m\u001b[0minput_layer\u001b[0m \u001b[1;32mimport\u001b[0m \u001b[0mInputLayer\u001b[0m\u001b[1;33m\u001b[0m\u001b[1;33m\u001b[0m\u001b[0m\n\u001b[0;32m     25\u001b[0m \u001b[1;32mfrom\u001b[0m \u001b[0mkeras\u001b[0m\u001b[1;33m.\u001b[0m\u001b[0mengine\u001b[0m\u001b[1;33m.\u001b[0m\u001b[0minput_spec\u001b[0m \u001b[1;32mimport\u001b[0m \u001b[0mInputSpec\u001b[0m\u001b[1;33m\u001b[0m\u001b[1;33m\u001b[0m\u001b[0m\n",
      "\u001b[1;32m~\\.conda\\envs\\tf_gpu\\lib\\site-packages\\keras\\engine\\input_layer.py\u001b[0m in \u001b[0;36m<module>\u001b[1;34m\u001b[0m\n\u001b[0;32m     19\u001b[0m \u001b[1;32mfrom\u001b[0m \u001b[0mkeras\u001b[0m \u001b[1;32mimport\u001b[0m \u001b[0mbackend\u001b[0m\u001b[1;33m\u001b[0m\u001b[1;33m\u001b[0m\u001b[0m\n\u001b[0;32m     20\u001b[0m \u001b[1;32mfrom\u001b[0m \u001b[0mkeras\u001b[0m\u001b[1;33m.\u001b[0m\u001b[0mdistribute\u001b[0m \u001b[1;32mimport\u001b[0m \u001b[0mdistributed_training_utils\u001b[0m\u001b[1;33m\u001b[0m\u001b[1;33m\u001b[0m\u001b[0m\n\u001b[1;32m---> 21\u001b[1;33m \u001b[1;32mfrom\u001b[0m \u001b[0mkeras\u001b[0m\u001b[1;33m.\u001b[0m\u001b[0mengine\u001b[0m \u001b[1;32mimport\u001b[0m \u001b[0mbase_layer\u001b[0m\u001b[1;33m\u001b[0m\u001b[1;33m\u001b[0m\u001b[0m\n\u001b[0m\u001b[0;32m     22\u001b[0m \u001b[1;32mfrom\u001b[0m \u001b[0mkeras\u001b[0m\u001b[1;33m.\u001b[0m\u001b[0mengine\u001b[0m \u001b[1;32mimport\u001b[0m \u001b[0mkeras_tensor\u001b[0m\u001b[1;33m\u001b[0m\u001b[1;33m\u001b[0m\u001b[0m\n\u001b[0;32m     23\u001b[0m \u001b[1;32mfrom\u001b[0m \u001b[0mkeras\u001b[0m\u001b[1;33m.\u001b[0m\u001b[0mengine\u001b[0m \u001b[1;32mimport\u001b[0m \u001b[0mnode\u001b[0m \u001b[1;32mas\u001b[0m \u001b[0mnode_module\u001b[0m\u001b[1;33m\u001b[0m\u001b[1;33m\u001b[0m\u001b[0m\n",
      "\u001b[1;32m~\\.conda\\envs\\tf_gpu\\lib\\site-packages\\keras\\engine\\base_layer.py\u001b[0m in \u001b[0;36m<module>\u001b[1;34m\u001b[0m\n\u001b[0;32m     41\u001b[0m \u001b[1;32mfrom\u001b[0m \u001b[0mkeras\u001b[0m\u001b[1;33m.\u001b[0m\u001b[0mengine\u001b[0m \u001b[1;32mimport\u001b[0m \u001b[0mnode\u001b[0m \u001b[1;32mas\u001b[0m \u001b[0mnode_module\u001b[0m\u001b[1;33m\u001b[0m\u001b[1;33m\u001b[0m\u001b[0m\n\u001b[0;32m     42\u001b[0m \u001b[1;32mfrom\u001b[0m \u001b[0mkeras\u001b[0m\u001b[1;33m.\u001b[0m\u001b[0mmixed_precision\u001b[0m \u001b[1;32mimport\u001b[0m \u001b[0mautocast_variable\u001b[0m\u001b[1;33m\u001b[0m\u001b[1;33m\u001b[0m\u001b[0m\n\u001b[1;32m---> 43\u001b[1;33m \u001b[1;32mfrom\u001b[0m \u001b[0mkeras\u001b[0m\u001b[1;33m.\u001b[0m\u001b[0mmixed_precision\u001b[0m \u001b[1;32mimport\u001b[0m \u001b[0mloss_scale_optimizer\u001b[0m\u001b[1;33m\u001b[0m\u001b[1;33m\u001b[0m\u001b[0m\n\u001b[0m\u001b[0;32m     44\u001b[0m \u001b[1;32mfrom\u001b[0m \u001b[0mkeras\u001b[0m\u001b[1;33m.\u001b[0m\u001b[0mmixed_precision\u001b[0m \u001b[1;32mimport\u001b[0m \u001b[0mpolicy\u001b[0m\u001b[1;33m\u001b[0m\u001b[1;33m\u001b[0m\u001b[0m\n\u001b[0;32m     45\u001b[0m \u001b[1;32mfrom\u001b[0m \u001b[0mkeras\u001b[0m\u001b[1;33m.\u001b[0m\u001b[0msaving\u001b[0m\u001b[1;33m.\u001b[0m\u001b[0msaved_model\u001b[0m \u001b[1;32mimport\u001b[0m \u001b[0mlayer_serialization\u001b[0m\u001b[1;33m\u001b[0m\u001b[1;33m\u001b[0m\u001b[0m\n",
      "\u001b[1;32m~\\.conda\\envs\\tf_gpu\\lib\\site-packages\\keras\\mixed_precision\\loss_scale_optimizer.py\u001b[0m in \u001b[0;36m<module>\u001b[1;34m\u001b[0m\n\u001b[0;32m     16\u001b[0m \u001b[1;33m\u001b[0m\u001b[0m\n\u001b[0;32m     17\u001b[0m \u001b[1;32mfrom\u001b[0m \u001b[0mkeras\u001b[0m \u001b[1;32mimport\u001b[0m \u001b[0mbackend\u001b[0m\u001b[1;33m\u001b[0m\u001b[1;33m\u001b[0m\u001b[0m\n\u001b[1;32m---> 18\u001b[1;33m \u001b[1;32mfrom\u001b[0m \u001b[0mkeras\u001b[0m \u001b[1;32mimport\u001b[0m \u001b[0moptimizers\u001b[0m\u001b[1;33m\u001b[0m\u001b[1;33m\u001b[0m\u001b[0m\n\u001b[0m\u001b[0;32m     19\u001b[0m \u001b[1;32mfrom\u001b[0m \u001b[0mkeras\u001b[0m\u001b[1;33m.\u001b[0m\u001b[0mmixed_precision\u001b[0m \u001b[1;32mimport\u001b[0m \u001b[0mloss_scale\u001b[0m \u001b[1;32mas\u001b[0m \u001b[0mkeras_loss_scale_module\u001b[0m\u001b[1;33m\u001b[0m\u001b[1;33m\u001b[0m\u001b[0m\n\u001b[0;32m     20\u001b[0m \u001b[1;32mfrom\u001b[0m \u001b[0mkeras\u001b[0m\u001b[1;33m.\u001b[0m\u001b[0moptimizer_experimental\u001b[0m \u001b[1;32mimport\u001b[0m \u001b[0moptimizer\u001b[0m \u001b[1;32mas\u001b[0m \u001b[0moptimizer_experimental\u001b[0m\u001b[1;33m\u001b[0m\u001b[1;33m\u001b[0m\u001b[0m\n",
      "\u001b[1;32m~\\.conda\\envs\\tf_gpu\\lib\\site-packages\\keras\\optimizers.py\u001b[0m in \u001b[0;36m<module>\u001b[1;34m\u001b[0m\n\u001b[0;32m     29\u001b[0m \u001b[1;32mfrom\u001b[0m \u001b[0mkeras\u001b[0m\u001b[1;33m.\u001b[0m\u001b[0moptimizer_v1\u001b[0m \u001b[1;32mimport\u001b[0m \u001b[0mOptimizer\u001b[0m\u001b[1;33m\u001b[0m\u001b[1;33m\u001b[0m\u001b[0m\n\u001b[0;32m     30\u001b[0m \u001b[1;32mfrom\u001b[0m \u001b[0mkeras\u001b[0m\u001b[1;33m.\u001b[0m\u001b[0moptimizer_v1\u001b[0m \u001b[1;32mimport\u001b[0m \u001b[0mTFOptimizer\u001b[0m\u001b[1;33m\u001b[0m\u001b[1;33m\u001b[0m\u001b[0m\n\u001b[1;32m---> 31\u001b[1;33m \u001b[1;32mfrom\u001b[0m \u001b[0mkeras\u001b[0m\u001b[1;33m.\u001b[0m\u001b[0moptimizer_v2\u001b[0m \u001b[1;32mimport\u001b[0m \u001b[0madadelta\u001b[0m \u001b[1;32mas\u001b[0m \u001b[0madadelta_v2\u001b[0m\u001b[1;33m\u001b[0m\u001b[1;33m\u001b[0m\u001b[0m\n\u001b[0m\u001b[0;32m     32\u001b[0m \u001b[1;32mfrom\u001b[0m \u001b[0mkeras\u001b[0m\u001b[1;33m.\u001b[0m\u001b[0moptimizer_v2\u001b[0m \u001b[1;32mimport\u001b[0m \u001b[0madagrad\u001b[0m \u001b[1;32mas\u001b[0m \u001b[0madagrad_v2\u001b[0m\u001b[1;33m\u001b[0m\u001b[1;33m\u001b[0m\u001b[0m\n\u001b[0;32m     33\u001b[0m \u001b[1;32mfrom\u001b[0m \u001b[0mkeras\u001b[0m\u001b[1;33m.\u001b[0m\u001b[0moptimizer_v2\u001b[0m \u001b[1;32mimport\u001b[0m \u001b[0madam\u001b[0m \u001b[1;32mas\u001b[0m \u001b[0madam_v2\u001b[0m\u001b[1;33m\u001b[0m\u001b[1;33m\u001b[0m\u001b[0m\n",
      "\u001b[1;32m~\\.conda\\envs\\tf_gpu\\lib\\site-packages\\keras\\optimizer_v2\\adadelta.py\u001b[0m in \u001b[0;36m<module>\u001b[1;34m\u001b[0m\n\u001b[0;32m     20\u001b[0m \u001b[1;32mimport\u001b[0m \u001b[0mnumpy\u001b[0m \u001b[1;32mas\u001b[0m \u001b[0mnp\u001b[0m\u001b[1;33m\u001b[0m\u001b[1;33m\u001b[0m\u001b[0m\n\u001b[0;32m     21\u001b[0m \u001b[1;32mfrom\u001b[0m \u001b[0mkeras\u001b[0m \u001b[1;32mimport\u001b[0m \u001b[0mbackend_config\u001b[0m\u001b[1;33m\u001b[0m\u001b[1;33m\u001b[0m\u001b[0m\n\u001b[1;32m---> 22\u001b[1;33m \u001b[1;32mfrom\u001b[0m \u001b[0mkeras\u001b[0m\u001b[1;33m.\u001b[0m\u001b[0moptimizer_v2\u001b[0m \u001b[1;32mimport\u001b[0m \u001b[0moptimizer_v2\u001b[0m\u001b[1;33m\u001b[0m\u001b[1;33m\u001b[0m\u001b[0m\n\u001b[0m\u001b[0;32m     23\u001b[0m \u001b[1;32mfrom\u001b[0m \u001b[0mtensorflow\u001b[0m\u001b[1;33m.\u001b[0m\u001b[0mpython\u001b[0m\u001b[1;33m.\u001b[0m\u001b[0mutil\u001b[0m\u001b[1;33m.\u001b[0m\u001b[0mtf_export\u001b[0m \u001b[1;32mimport\u001b[0m \u001b[0mkeras_export\u001b[0m\u001b[1;33m\u001b[0m\u001b[1;33m\u001b[0m\u001b[0m\n\u001b[0;32m     24\u001b[0m \u001b[1;33m\u001b[0m\u001b[0m\n",
      "\u001b[1;32m~\\.conda\\envs\\tf_gpu\\lib\\site-packages\\keras\\optimizer_v2\\optimizer_v2.py\u001b[0m in \u001b[0;36m<module>\u001b[1;34m\u001b[0m\n\u001b[0;32m     34\u001b[0m \u001b[1;33m\u001b[0m\u001b[0m\n\u001b[0;32m     35\u001b[0m \u001b[1;33m\u001b[0m\u001b[0m\n\u001b[1;32m---> 36\u001b[1;33m keras_optimizers_gauge = tf.__internal__.monitoring.BoolGauge(\n\u001b[0m\u001b[0;32m     37\u001b[0m     \"/tensorflow/api/keras/optimizers\", \"keras optimizer usage\", \"method\")\n\u001b[0;32m     38\u001b[0m \u001b[1;33m\u001b[0m\u001b[0m\n",
      "\u001b[1;32m~\\.conda\\envs\\tf_gpu\\lib\\site-packages\\tensorflow\\python\\eager\\monitoring.py\u001b[0m in \u001b[0;36m__init__\u001b[1;34m(self, name, description, *labels)\u001b[0m\n\u001b[0;32m    358\u001b[0m       \u001b[1;33m*\u001b[0m\u001b[0mlabels\u001b[0m\u001b[1;33m:\u001b[0m \u001b[0mThe\u001b[0m \u001b[0mlabel\u001b[0m \u001b[0mlist\u001b[0m \u001b[0mof\u001b[0m \u001b[0mthe\u001b[0m \u001b[0mnew\u001b[0m \u001b[0mmetric\u001b[0m\u001b[1;33m.\u001b[0m\u001b[1;33m\u001b[0m\u001b[1;33m\u001b[0m\u001b[0m\n\u001b[0;32m    359\u001b[0m     \"\"\"\n\u001b[1;32m--> 360\u001b[1;33m     super(BoolGauge, self).__init__('BoolGauge', _bool_gauge_methods,\n\u001b[0m\u001b[0;32m    361\u001b[0m                                     len(labels), name, description, *labels)\n\u001b[0;32m    362\u001b[0m \u001b[1;33m\u001b[0m\u001b[0m\n",
      "\u001b[1;32m~\\.conda\\envs\\tf_gpu\\lib\\site-packages\\tensorflow\\python\\eager\\monitoring.py\u001b[0m in \u001b[0;36m__init__\u001b[1;34m(self, metric_name, metric_methods, label_length, *args)\u001b[0m\n\u001b[0;32m    133\u001b[0m           self._metric_name, len(self._metric_methods)))\n\u001b[0;32m    134\u001b[0m \u001b[1;33m\u001b[0m\u001b[0m\n\u001b[1;32m--> 135\u001b[1;33m     \u001b[0mself\u001b[0m\u001b[1;33m.\u001b[0m\u001b[0m_metric\u001b[0m \u001b[1;33m=\u001b[0m \u001b[0mself\u001b[0m\u001b[1;33m.\u001b[0m\u001b[0m_metric_methods\u001b[0m\u001b[1;33m[\u001b[0m\u001b[0mself\u001b[0m\u001b[1;33m.\u001b[0m\u001b[0m_label_length\u001b[0m\u001b[1;33m]\u001b[0m\u001b[1;33m.\u001b[0m\u001b[0mcreate\u001b[0m\u001b[1;33m(\u001b[0m\u001b[1;33m*\u001b[0m\u001b[0margs\u001b[0m\u001b[1;33m)\u001b[0m\u001b[1;33m\u001b[0m\u001b[1;33m\u001b[0m\u001b[0m\n\u001b[0m\u001b[0;32m    136\u001b[0m \u001b[1;33m\u001b[0m\u001b[0m\n\u001b[0;32m    137\u001b[0m   \u001b[1;32mdef\u001b[0m \u001b[0m__del__\u001b[0m\u001b[1;33m(\u001b[0m\u001b[0mself\u001b[0m\u001b[1;33m)\u001b[0m\u001b[1;33m:\u001b[0m\u001b[1;33m\u001b[0m\u001b[1;33m\u001b[0m\u001b[0m\n",
      "\u001b[1;31mAlreadyExistsError\u001b[0m: Another metric with the same name already exists."
     ]
    }
   ],
   "source": [
    "import collections\n",
    "\n",
    "import numpy as np\n",
    "\n",
    "from tensorflow.keras.preprocessing.text import Tokenizer\n",
    "from tensorflow.keras.preprocessing.sequence import pad_sequences\n",
    "from tensorflow.keras.models import Model\n",
    "from tensorflow.keras.layers import GRU, Input, Dense, TimeDistributed, Activation, RepeatVector, Bidirectional\n",
    "from tensorflow.keras.layers import Embedding\n",
    "from tensorflow.keras.optimizers import Adam\n",
    "from tensorflow.keras.losses import sparse_categorical_crossentropy"
   ]
  },
  {
   "cell_type": "markdown",
   "metadata": {},
   "source": [
    "### Verify access to the GPU"
   ]
  },
  {
   "cell_type": "code",
   "execution_count": 2,
   "metadata": {},
   "outputs": [
    {
     "name": "stdout",
     "output_type": "stream",
     "text": [
      "[name: \"/device:CPU:0\"\n",
      "device_type: \"CPU\"\n",
      "memory_limit: 268435456\n",
      "locality {\n",
      "}\n",
      "incarnation: 14719032101380401830\n",
      ", name: \"/device:GPU:0\"\n",
      "device_type: \"GPU\"\n",
      "memory_limit: 2254123828\n",
      "locality {\n",
      "  bus_id: 1\n",
      "  links {\n",
      "  }\n",
      "}\n",
      "incarnation: 15774481516893467955\n",
      "physical_device_desc: \"device: 0, name: NVIDIA GeForce GTX 1650 Ti, pci bus id: 0000:01:00.0, compute capability: 7.5\"\n",
      "]\n"
     ]
    }
   ],
   "source": [
    "from tensorflow.python.client import device_lib\n",
    "print(device_lib.list_local_devices())"
   ]
  },
  {
   "cell_type": "markdown",
   "metadata": {},
   "source": [
    "## Dataset\n",
    "[WMT](http://www.statmt.org/)"
   ]
  },
  {
   "cell_type": "code",
   "execution_count": 3,
   "metadata": {},
   "outputs": [],
   "source": [
    "import os\n",
    "def load_data(path):\n",
    "    \"\"\"\n",
    "    Load dataset\n",
    "    \"\"\"\n",
    "    input_file = os.path.join(path)\n",
    "    with open(input_file, \"r\") as f:\n",
    "        data = f.read()\n",
    "\n",
    "    return data.split('\\n')"
   ]
  },
  {
   "cell_type": "code",
   "execution_count": 4,
   "metadata": {},
   "outputs": [
    {
     "name": "stdout",
     "output_type": "stream",
     "text": [
      "Dataset Loaded\n"
     ]
    }
   ],
   "source": [
    "# Load English data\n",
    "english_sentences = load_data('small_vocab_en')\n",
    "# Load French data\n",
    "french_sentences = load_data('small_vocab_fr')\n",
    "\n",
    "print('Dataset Loaded')"
   ]
  },
  {
   "cell_type": "markdown",
   "metadata": {},
   "source": [
    "### Files"
   ]
  },
  {
   "cell_type": "code",
   "execution_count": 5,
   "metadata": {},
   "outputs": [
    {
     "name": "stdout",
     "output_type": "stream",
     "text": [
      "small_vocab_en Line 1:  new jersey is sometimes quiet during autumn , and it is snowy in april .\n",
      "small_vocab_fr Line 1:  new jersey est parfois calme pendant l' automne , et il est neigeux en avril .\n",
      "small_vocab_en Line 2:  the united states is usually chilly during july , and it is usually freezing in november .\n",
      "small_vocab_fr Line 2:  les Ã©tats-unis est gÃ©nÃ©ralement froid en juillet , et il gÃ¨le habituellement en novembre .\n"
     ]
    }
   ],
   "source": [
    "for sample_i in range(2):\n",
    "    print('small_vocab_en Line {}:  {}'.format(sample_i + 1, english_sentences[sample_i]))\n",
    "    print('small_vocab_fr Line {}:  {}'.format(sample_i + 1, french_sentences[sample_i]))"
   ]
  },
  {
   "cell_type": "markdown",
   "metadata": {},
   "source": [
    "### Vocabulary"
   ]
  },
  {
   "cell_type": "code",
   "execution_count": 6,
   "metadata": {},
   "outputs": [
    {
     "name": "stdout",
     "output_type": "stream",
     "text": [
      "1823250 English words.\n",
      "227 unique English words.\n",
      "10 Most common words in the English dataset:\n",
      "\"is\" \",\" \".\" \"in\" \"it\" \"during\" \"the\" \"but\" \"and\" \"sometimes\"\n",
      "\n",
      "1961295 French words.\n",
      "355 unique French words.\n",
      "10 Most common words in the French dataset:\n",
      "\"est\" \".\" \",\" \"en\" \"il\" \"les\" \"mais\" \"et\" \"la\" \"parfois\"\n"
     ]
    }
   ],
   "source": [
    "english_words_counter = collections.Counter([word for sentence in english_sentences for word in sentence.split()])\n",
    "french_words_counter = collections.Counter([word for sentence in french_sentences for word in sentence.split()])\n",
    "\n",
    "print('{} English words.'.format(len([word for sentence in english_sentences for word in sentence.split()])))\n",
    "print('{} unique English words.'.format(len(english_words_counter)))\n",
    "print('10 Most common words in the English dataset:')\n",
    "print('\"' + '\" \"'.join(list(zip(*english_words_counter.most_common(10)))[0]) + '\"')\n",
    "print()\n",
    "print('{} French words.'.format(len([word for sentence in french_sentences for word in sentence.split()])))\n",
    "print('{} unique French words.'.format(len(french_words_counter)))\n",
    "print('10 Most common words in the French dataset:')\n",
    "print('\"' + '\" \"'.join(list(zip(*french_words_counter.most_common(10)))[0]) + '\"')"
   ]
  },
  {
   "cell_type": "markdown",
   "metadata": {},
   "source": [
    "## Preprocess\n",
    "\n",
    "### Tokenize (IMPLEMENTATION)"
   ]
  },
  {
   "cell_type": "code",
   "execution_count": 7,
   "metadata": {},
   "outputs": [
    {
     "name": "stdout",
     "output_type": "stream",
     "text": [
      "{'the': 1, 'quick': 2, 'a': 3, 'brown': 4, 'fox': 5, 'jumps': 6, 'over': 7, 'lazy': 8, 'dog': 9, 'by': 10, 'jove': 11, 'my': 12, 'study': 13, 'of': 14, 'lexicography': 15, 'won': 16, 'prize': 17, 'this': 18, 'is': 19, 'short': 20, 'sentence': 21}\n",
      "\n",
      "Sequence 1 in x\n",
      "  Input:  The quick brown fox jumps over the lazy dog .\n",
      "  Output: [1, 2, 4, 5, 6, 7, 1, 8, 9]\n",
      "Sequence 2 in x\n",
      "  Input:  By Jove , my quick study of lexicography won a prize .\n",
      "  Output: [10, 11, 12, 2, 13, 14, 15, 16, 3, 17]\n",
      "Sequence 3 in x\n",
      "  Input:  This is a short sentence .\n",
      "  Output: [18, 19, 3, 20, 21]\n"
     ]
    }
   ],
   "source": [
    "def tokenize(x):\n",
    "    x_tk = Tokenizer(char_level = False)\n",
    "    x_tk.fit_on_texts(x)\n",
    "    return x_tk.texts_to_sequences(x), x_tk\n",
    "\n",
    "# Tokenize Example output\n",
    "text_sentences = [\n",
    "    'The quick brown fox jumps over the lazy dog .',\n",
    "    'By Jove , my quick study of lexicography won a prize .',\n",
    "    'This is a short sentence .']\n",
    "text_tokenized, text_tokenizer = tokenize(text_sentences)\n",
    "print(text_tokenizer.word_index)\n",
    "print()\n",
    "for sample_i, (sent, token_sent) in enumerate(zip(text_sentences, text_tokenized)):\n",
    "    print('Sequence {} in x'.format(sample_i + 1))\n",
    "    print('  Input:  {}'.format(sent))\n",
    "    print('  Output: {}'.format(token_sent))"
   ]
  },
  {
   "cell_type": "markdown",
   "metadata": {},
   "source": [
    "### Padding (IMPLEMENTATION)"
   ]
  },
  {
   "cell_type": "code",
   "execution_count": 8,
   "metadata": {},
   "outputs": [
    {
     "name": "stdout",
     "output_type": "stream",
     "text": [
      "Sequence 1 in x\n",
      "  Input:  [1 2 4 5 6 7 1 8 9]\n",
      "  Output: [1 2 4 5 6 7 1 8 9 0]\n",
      "Sequence 2 in x\n",
      "  Input:  [10 11 12  2 13 14 15 16  3 17]\n",
      "  Output: [10 11 12  2 13 14 15 16  3 17]\n",
      "Sequence 3 in x\n",
      "  Input:  [18 19  3 20 21]\n",
      "  Output: [18 19  3 20 21  0  0  0  0  0]\n"
     ]
    }
   ],
   "source": [
    "def pad(x, length=None):\n",
    "    if length is None:\n",
    "        length = max([len(sentence) for sentence in x])\n",
    "    return pad_sequences(x, maxlen = length, padding = 'post')\n",
    "\n",
    "\n",
    "# Pad Tokenized output\n",
    "test_pad = pad(text_tokenized)\n",
    "for sample_i, (token_sent, pad_sent) in enumerate(zip(text_tokenized, test_pad)):\n",
    "    print('Sequence {} in x'.format(sample_i + 1))\n",
    "    print('  Input:  {}'.format(np.array(token_sent)))\n",
    "    print('  Output: {}'.format(pad_sent))"
   ]
  },
  {
   "cell_type": "markdown",
   "metadata": {},
   "source": [
    "### Preprocess Pipeline"
   ]
  },
  {
   "cell_type": "code",
   "execution_count": 9,
   "metadata": {},
   "outputs": [
    {
     "name": "stdout",
     "output_type": "stream",
     "text": [
      "Data Preprocessed\n",
      "Max English sentence length: 15\n",
      "Max French sentence length: 21\n",
      "English vocabulary size: 199\n",
      "French vocabulary size: 345\n"
     ]
    }
   ],
   "source": [
    "def preprocess(x, y):\n",
    "    preprocess_x, x_tk = tokenize(x)\n",
    "    preprocess_y, y_tk = tokenize(y)\n",
    "\n",
    "    preprocess_x = pad(preprocess_x)\n",
    "    preprocess_y = pad(preprocess_y)\n",
    "\n",
    "    # Keras's sparse_categorical_crossentropy function requires the labels to be in 3 dimensions\n",
    "    preprocess_y = preprocess_y.reshape(*preprocess_y.shape, 1)\n",
    "\n",
    "    return preprocess_x, preprocess_y, x_tk, y_tk\n",
    "\n",
    "preproc_english_sentences, preproc_french_sentences, english_tokenizer, french_tokenizer =\\\n",
    "    preprocess(english_sentences, french_sentences)\n",
    "    \n",
    "max_english_sequence_length = preproc_english_sentences.shape[1]\n",
    "max_french_sequence_length = preproc_french_sentences.shape[1]\n",
    "english_vocab_size = len(english_tokenizer.word_index)\n",
    "french_vocab_size = len(french_tokenizer.word_index)\n",
    "\n",
    "print('Data Preprocessed')\n",
    "print(\"Max English sentence length:\", max_english_sequence_length)\n",
    "print(\"Max French sentence length:\", max_french_sequence_length)\n",
    "print(\"English vocabulary size:\", english_vocab_size)\n",
    "print(\"French vocabulary size:\", french_vocab_size)"
   ]
  },
  {
   "cell_type": "code",
   "execution_count": 10,
   "metadata": {},
   "outputs": [
    {
     "data": {
      "text/plain": [
       "array([[17, 23,  1, ..., 44,  0,  0],\n",
       "       [ 5, 20, 21, ..., 51,  2, 45],\n",
       "       [22,  1,  9, ..., 34,  0,  0],\n",
       "       ...,\n",
       "       [24,  1, 10, ..., 54,  0,  0],\n",
       "       [ 5, 84,  1, ...,  0,  0,  0],\n",
       "       [ 0,  0,  0, ...,  0,  0,  0]])"
      ]
     },
     "execution_count": 10,
     "metadata": {},
     "output_type": "execute_result"
    }
   ],
   "source": [
    "preproc_english_sentences"
   ]
  },
  {
   "cell_type": "code",
   "execution_count": 11,
   "metadata": {},
   "outputs": [
    {
     "data": {
      "text/plain": [
       "<keras_preprocessing.text.Tokenizer at 0x17e445908b0>"
      ]
     },
     "execution_count": 11,
     "metadata": {},
     "output_type": "execute_result"
    }
   ],
   "source": [
    "english_tokenizer"
   ]
  },
  {
   "cell_type": "code",
   "execution_count": 12,
   "metadata": {},
   "outputs": [
    {
     "data": {
      "text/plain": [
       "array([[[ 35],\n",
       "        [ 34],\n",
       "        [  1],\n",
       "        ...,\n",
       "        [  0],\n",
       "        [  0],\n",
       "        [  0]],\n",
       "\n",
       "       [[  4],\n",
       "        [ 32],\n",
       "        [ 31],\n",
       "        ...,\n",
       "        [  0],\n",
       "        [  0],\n",
       "        [  0]],\n",
       "\n",
       "       [[101],\n",
       "        [  1],\n",
       "        [ 12],\n",
       "        ...,\n",
       "        [  0],\n",
       "        [  0],\n",
       "        [  0]],\n",
       "\n",
       "       ...,\n",
       "\n",
       "       [[  7],\n",
       "        [ 33],\n",
       "        [  1],\n",
       "        ...,\n",
       "        [  0],\n",
       "        [  0],\n",
       "        [  0]],\n",
       "\n",
       "       [[ 84],\n",
       "        [  1],\n",
       "        [ 20],\n",
       "        ...,\n",
       "        [  0],\n",
       "        [  0],\n",
       "        [  0]],\n",
       "\n",
       "       [[  0],\n",
       "        [  0],\n",
       "        [  0],\n",
       "        ...,\n",
       "        [  0],\n",
       "        [  0],\n",
       "        [  0]]])"
      ]
     },
     "execution_count": 12,
     "metadata": {},
     "output_type": "execute_result"
    }
   ],
   "source": [
    "preproc_french_sentences"
   ]
  },
  {
   "cell_type": "code",
   "execution_count": 13,
   "metadata": {},
   "outputs": [
    {
     "data": {
      "text/plain": [
       "<keras_preprocessing.text.Tokenizer at 0x17e4d72bb20>"
      ]
     },
     "execution_count": 13,
     "metadata": {},
     "output_type": "execute_result"
    }
   ],
   "source": [
    "french_tokenizer"
   ]
  },
  {
   "cell_type": "code",
   "execution_count": null,
   "metadata": {},
   "outputs": [],
   "source": []
  },
  {
   "cell_type": "markdown",
   "metadata": {},
   "source": [
    "## Models\n",
    "\n",
    "- Model 1 is a simple RNN\n",
    "- Model 2 is a RNN with Embedding\n",
    "- Model 3 is a Bidirectional RNN\n",
    "- Model 4 is an optional Encoder-Decoder RNN\n",
    "\n",
    "### Ids Back to Text\n",
    "The neural network will be translating the input to words ids, which isn't the final form we want.  We want the French translation.  The function `logits_to_text` will bridge the gab between the logits from the neural network to the French translation.  You'll be using this function to better understand the output of the neural network."
   ]
  },
  {
   "cell_type": "code",
   "execution_count": 14,
   "metadata": {},
   "outputs": [
    {
     "name": "stdout",
     "output_type": "stream",
     "text": [
      "`logits_to_text` function loaded.\n"
     ]
    }
   ],
   "source": [
    "def logits_to_text(logits, tokenizer):\n",
    "    index_to_words = {id: word for word, id in tokenizer.word_index.items()}\n",
    "    index_to_words[0] = '<PAD>'\n",
    "\n",
    "    return ' '.join([index_to_words[prediction] for prediction in np.argmax(logits, 1)])\n",
    "\n",
    "print('`logits_to_text` function loaded.')"
   ]
  },
  {
   "cell_type": "markdown",
   "metadata": {},
   "source": [
    "### Model 1: RNN (IMPLEMENTATION)\n",
    "A basic RNN model is a good baseline for sequence data.  In this model, you'll build a RNN that translates English to French."
   ]
  },
  {
   "cell_type": "code",
   "execution_count": 15,
   "metadata": {},
   "outputs": [],
   "source": [
    "def simple_model(input_shape, output_sequence_length, english_vocab_size, french_vocab_size):\n",
    "    \"\"\"\n",
    "    Build and train a basic RNN on x and y\n",
    "    :param input_shape: Tuple of input shape\n",
    "    :param output_sequence_length: Length of output sequence\n",
    "    :param english_vocab_size: Number of unique English words in the dataset\n",
    "    :param french_vocab_size: Number of unique French words in the dataset\n",
    "    :return: Keras model built, but not trained\n",
    "    \"\"\"\n",
    "    learning_rate = 1e-3\n",
    "    input_seq = Input(input_shape[1:])\n",
    "    rnn = GRU(64, return_sequences = True)(input_seq)\n",
    "    logits = TimeDistributed(Dense(french_vocab_size))(rnn)\n",
    "    model = Model(input_seq, Activation('softmax')(logits))\n",
    "    model.compile(loss = sparse_categorical_crossentropy, \n",
    "                 optimizer = Adam(learning_rate), \n",
    "                 metrics = ['accuracy'])\n",
    "    \n",
    "    return model\n"
   ]
  },
  {
   "cell_type": "code",
   "execution_count": 16,
   "metadata": {},
   "outputs": [],
   "source": [
    "# Reshaping the input to work with a basic RNN\n",
    "tmp_x = pad(preproc_english_sentences, max_french_sequence_length)\n",
    "tmp_x = tmp_x.reshape((-1, preproc_french_sentences.shape[-2], 1))"
   ]
  },
  {
   "cell_type": "code",
   "execution_count": 17,
   "metadata": {},
   "outputs": [
    {
     "data": {
      "text/plain": [
       "(137861, 21, 1)"
      ]
     },
     "execution_count": 17,
     "metadata": {},
     "output_type": "execute_result"
    }
   ],
   "source": [
    "tmp_x.shape"
   ]
  },
  {
   "cell_type": "code",
   "execution_count": 18,
   "metadata": {},
   "outputs": [
    {
     "name": "stdout",
     "output_type": "stream",
     "text": [
      "Model: \"model\"\n",
      "_________________________________________________________________\n",
      "Layer (type)                 Output Shape              Param #   \n",
      "=================================================================\n",
      "input_1 (InputLayer)         [(None, 21, 1)]           0         \n",
      "_________________________________________________________________\n",
      "gru (GRU)                    (None, 21, 64)            12864     \n",
      "_________________________________________________________________\n",
      "time_distributed (TimeDistri (None, 21, 345)           22425     \n",
      "_________________________________________________________________\n",
      "activation (Activation)      (None, 21, 345)           0         \n",
      "=================================================================\n",
      "Total params: 35,289\n",
      "Trainable params: 35,289\n",
      "Non-trainable params: 0\n",
      "_________________________________________________________________\n"
     ]
    }
   ],
   "source": [
    "# Train the neural network\n",
    "simple_rnn_model = simple_model(\n",
    "    tmp_x.shape,\n",
    "    max_french_sequence_length,\n",
    "    english_vocab_size,\n",
    "    french_vocab_size)\n",
    "simple_rnn_model.summary()"
   ]
  },
  {
   "cell_type": "code",
   "execution_count": 19,
   "metadata": {},
   "outputs": [
    {
     "name": "stdout",
     "output_type": "stream",
     "text": [
      "Epoch 1/10\n",
      "108/108 [==============================] - 7s 25ms/step - loss: 3.4927 - accuracy: 0.4055 - val_loss: nan - val_accuracy: 0.4435\n",
      "Epoch 2/10\n",
      "108/108 [==============================] - 2s 18ms/step - loss: 2.5088 - accuracy: 0.4577 - val_loss: nan - val_accuracy: 0.4716\n",
      "Epoch 3/10\n",
      "108/108 [==============================] - 2s 18ms/step - loss: 2.2713 - accuracy: 0.4898 - val_loss: nan - val_accuracy: 0.5125\n",
      "Epoch 4/10\n",
      "108/108 [==============================] - 2s 18ms/step - loss: 2.0157 - accuracy: 0.5368 - val_loss: nan - val_accuracy: 0.5604\n",
      "Epoch 5/10\n",
      "108/108 [==============================] - 2s 18ms/step - loss: 1.8024 - accuracy: 0.5691 - val_loss: nan - val_accuracy: 0.5754\n",
      "Epoch 6/10\n",
      "108/108 [==============================] - 2s 18ms/step - loss: 1.6764 - accuracy: 0.5826 - val_loss: nan - val_accuracy: 0.5904\n",
      "Epoch 7/10\n",
      "108/108 [==============================] - 2s 18ms/step - loss: 1.5951 - accuracy: 0.5912 - val_loss: nan - val_accuracy: 0.5943\n",
      "Epoch 8/10\n",
      "108/108 [==============================] - 2s 18ms/step - loss: 1.5336 - accuracy: 0.5979 - val_loss: nan - val_accuracy: 0.6043\n",
      "Epoch 9/10\n",
      "108/108 [==============================] - 2s 18ms/step - loss: 1.4838 - accuracy: 0.6079 - val_loss: nan - val_accuracy: 0.6142\n",
      "Epoch 10/10\n",
      "108/108 [==============================] - 2s 18ms/step - loss: 1.4421 - accuracy: 0.6184 - val_loss: nan - val_accuracy: 0.6240\n"
     ]
    },
    {
     "data": {
      "text/plain": [
       "<tensorflow.python.keras.callbacks.History at 0x17e0082e760>"
      ]
     },
     "execution_count": 19,
     "metadata": {},
     "output_type": "execute_result"
    }
   ],
   "source": [
    "simple_rnn_model.fit(tmp_x, preproc_french_sentences, batch_size=1024, epochs=10, validation_split=0.2)"
   ]
  },
  {
   "cell_type": "code",
   "execution_count": 20,
   "metadata": {},
   "outputs": [
    {
     "name": "stdout",
     "output_type": "stream",
     "text": [
      "paris jersey est parfois parfois en l' et il est est en en <PAD> <PAD> <PAD> <PAD> <PAD> <PAD> <PAD> <PAD>\n"
     ]
    }
   ],
   "source": [
    "# Print prediction(s)\n",
    "print(logits_to_text(simple_rnn_model.predict(tmp_x[:1])[0], french_tokenizer))"
   ]
  },
  {
   "cell_type": "code",
   "execution_count": null,
   "metadata": {},
   "outputs": [],
   "source": []
  },
  {
   "cell_type": "code",
   "execution_count": null,
   "metadata": {},
   "outputs": [],
   "source": []
  },
  {
   "cell_type": "markdown",
   "metadata": {},
   "source": [
    "### Model 2: Embedding (IMPLEMENTATION)"
   ]
  },
  {
   "cell_type": "code",
   "execution_count": 21,
   "metadata": {},
   "outputs": [
    {
     "name": "stdout",
     "output_type": "stream",
     "text": [
      "Epoch 1/10\n",
      "108/108 [==============================] - 5s 28ms/step - loss: 3.7081 - accuracy: 0.4045 - val_loss: nan - val_accuracy: 0.4093\n",
      "Epoch 2/10\n",
      "108/108 [==============================] - 3s 25ms/step - loss: 2.6648 - accuracy: 0.4480 - val_loss: nan - val_accuracy: 0.5085\n",
      "Epoch 3/10\n",
      "108/108 [==============================] - 3s 24ms/step - loss: 2.0031 - accuracy: 0.5569 - val_loss: nan - val_accuracy: 0.5972\n",
      "Epoch 4/10\n",
      "108/108 [==============================] - 3s 24ms/step - loss: 1.5022 - accuracy: 0.6342 - val_loss: nan - val_accuracy: 0.6802\n",
      "Epoch 5/10\n",
      "108/108 [==============================] - 3s 24ms/step - loss: 1.1564 - accuracy: 0.7163 - val_loss: nan - val_accuracy: 0.7464\n",
      "Epoch 6/10\n",
      "108/108 [==============================] - 3s 25ms/step - loss: 0.9477 - accuracy: 0.7606 - val_loss: nan - val_accuracy: 0.7740\n",
      "Epoch 7/10\n",
      "108/108 [==============================] - 3s 25ms/step - loss: 0.8094 - accuracy: 0.7857 - val_loss: nan - val_accuracy: 0.7981\n",
      "Epoch 8/10\n",
      "108/108 [==============================] - 3s 25ms/step - loss: 0.7129 - accuracy: 0.8055 - val_loss: nan - val_accuracy: 0.8140\n",
      "Epoch 9/10\n",
      "108/108 [==============================] - 3s 24ms/step - loss: 0.6423 - accuracy: 0.8203 - val_loss: nan - val_accuracy: 0.8280\n",
      "Epoch 10/10\n",
      "108/108 [==============================] - 3s 24ms/step - loss: 0.5878 - accuracy: 0.8328 - val_loss: nan - val_accuracy: 0.8382\n",
      "new jersey est parfois calme en l' et il est de en en avril <PAD> <PAD> <PAD> <PAD> <PAD> <PAD> <PAD>\n"
     ]
    }
   ],
   "source": [
    "from tensorflow.keras.models import Sequential\n",
    "def embed_model(input_shape, output_sequence_length, english_vocab_size, french_vocab_size):\n",
    "    \"\"\"\n",
    "    Build and train a RNN model using word embedding on x and y\n",
    "    :param input_shape: Tuple of input shape\n",
    "    :param output_sequence_length: Length of output sequence\n",
    "    :param english_vocab_size: Number of unique English words in the dataset\n",
    "    :param french_vocab_size: Number of unique French words in the dataset\n",
    "    :return: Keras model built, but not trained\n",
    "    \"\"\"\n",
    "    learning_rate = 1e-3\n",
    "    rnn = GRU(64, return_sequences=True, activation=\"tanh\")\n",
    "    \n",
    "    embedding = Embedding(french_vocab_size, 64, input_length=input_shape[1]) \n",
    "    logits = TimeDistributed(Dense(french_vocab_size, activation=\"softmax\"))\n",
    "    #TimeDistributed\n",
    "    #This wrapper allows to apply a layer to every temporal slice of an input.\n",
    "    #Every input should be at least 3D, and the dimension of index one of the first\n",
    "    #input will be considered to be the temporal dimension.\n",
    "    \n",
    "    model = Sequential()\n",
    "    #em can only be used in first layer --> Keras Documentation\n",
    "    model.add(embedding)\n",
    "    model.add(rnn)\n",
    "    model.add(logits)\n",
    "    model.compile(loss=sparse_categorical_crossentropy,\n",
    "                  optimizer=Adam(learning_rate),\n",
    "                  metrics=['accuracy'])\n",
    "    \n",
    "    return model\n",
    "\n",
    "\n",
    "# TODO: Reshape the input\n",
    "tmp_x = pad(preproc_english_sentences, max_french_sequence_length)\n",
    "tmp_x = tmp_x.reshape((-1, preproc_french_sentences.shape[-2]))\n",
    "\n",
    "# TODO: Train the neural network\n",
    "\n",
    "embeded_model = embed_model(\n",
    "    tmp_x.shape,\n",
    "    max_french_sequence_length,\n",
    "    english_vocab_size,\n",
    "    french_vocab_size)\n",
    "\n",
    "embeded_model.fit(tmp_x, preproc_french_sentences, batch_size=1024, epochs=10, validation_split=0.2)\n",
    "\n",
    "\n",
    "# TODO: Print prediction(s)\n",
    "print(logits_to_text(embeded_model.predict(tmp_x[:1])[0], french_tokenizer))"
   ]
  },
  {
   "cell_type": "markdown",
   "metadata": {},
   "source": [
    "### Model 3: Bidirectional RNNs (IMPLEMENTATION)"
   ]
  },
  {
   "cell_type": "code",
   "execution_count": 22,
   "metadata": {},
   "outputs": [
    {
     "name": "stdout",
     "output_type": "stream",
     "text": [
      "Epoch 1/20\n",
      "108/108 [==============================] - 9s 45ms/step - loss: 2.6458 - accuracy: 0.4964 - val_loss: 1.8190 - val_accuracy: 0.5621\n",
      "Epoch 2/20\n",
      "108/108 [==============================] - 4s 39ms/step - loss: 1.6989 - accuracy: 0.5768 - val_loss: 1.5023 - val_accuracy: 0.6061\n",
      "Epoch 3/20\n",
      "108/108 [==============================] - 4s 39ms/step - loss: 1.4799 - accuracy: 0.6072 - val_loss: 1.3891 - val_accuracy: 0.6167\n",
      "Epoch 4/20\n",
      "108/108 [==============================] - 4s 39ms/step - loss: 1.3672 - accuracy: 0.6242 - val_loss: 1.3297 - val_accuracy: 0.6200\n",
      "Epoch 5/20\n",
      "108/108 [==============================] - 4s 39ms/step - loss: 1.2887 - accuracy: 0.6383 - val_loss: 1.2956 - val_accuracy: 0.6184\n",
      "Epoch 6/20\n",
      "108/108 [==============================] - 4s 40ms/step - loss: 1.2310 - accuracy: 0.6493 - val_loss: 1.2897 - val_accuracy: 0.6169\n",
      "Epoch 7/20\n",
      "108/108 [==============================] - 4s 40ms/step - loss: 1.1847 - accuracy: 0.6576 - val_loss: 1.3100 - val_accuracy: 0.6119\n",
      "Epoch 8/20\n",
      "108/108 [==============================] - 4s 40ms/step - loss: 1.1483 - accuracy: 0.6652 - val_loss: 1.3199 - val_accuracy: 0.6109\n",
      "Epoch 9/20\n",
      "108/108 [==============================] - 4s 40ms/step - loss: 1.1194 - accuracy: 0.6703 - val_loss: 1.3368 - val_accuracy: 0.6118\n",
      "Epoch 10/20\n",
      "108/108 [==============================] - 4s 40ms/step - loss: 1.0956 - accuracy: 0.6748 - val_loss: 1.3747 - val_accuracy: 0.6053\n",
      "Epoch 11/20\n",
      "108/108 [==============================] - 4s 40ms/step - loss: 1.0736 - accuracy: 0.6787 - val_loss: 1.3818 - val_accuracy: 0.6065\n",
      "Epoch 12/20\n",
      "108/108 [==============================] - 4s 40ms/step - loss: 1.0543 - accuracy: 0.6821 - val_loss: 1.4248 - val_accuracy: 0.6005\n",
      "Epoch 13/20\n",
      "108/108 [==============================] - 4s 40ms/step - loss: 1.0360 - accuracy: 0.6853 - val_loss: 1.4492 - val_accuracy: 0.5991\n",
      "Epoch 14/20\n",
      "108/108 [==============================] - 4s 40ms/step - loss: 1.0193 - accuracy: 0.6879 - val_loss: 1.4761 - val_accuracy: 0.5965\n",
      "Epoch 15/20\n",
      "108/108 [==============================] - 4s 40ms/step - loss: 1.0045 - accuracy: 0.6905 - val_loss: 1.4918 - val_accuracy: 0.5953\n",
      "Epoch 16/20\n",
      "108/108 [==============================] - 4s 39ms/step - loss: 0.9907 - accuracy: 0.6924 - val_loss: 1.5230 - val_accuracy: 0.5925\n",
      "Epoch 17/20\n",
      "108/108 [==============================] - 4s 40ms/step - loss: 0.9790 - accuracy: 0.6943 - val_loss: 1.5739 - val_accuracy: 0.5880\n",
      "Epoch 18/20\n",
      "108/108 [==============================] - 4s 40ms/step - loss: 0.9690 - accuracy: 0.6956 - val_loss: 1.5520 - val_accuracy: 0.5924\n",
      "Epoch 19/20\n",
      "108/108 [==============================] - 4s 40ms/step - loss: 0.9594 - accuracy: 0.6969 - val_loss: 1.5701 - val_accuracy: 0.5914\n",
      "Epoch 20/20\n",
      "108/108 [==============================] - 4s 40ms/step - loss: 0.9505 - accuracy: 0.6984 - val_loss: 1.6072 - val_accuracy: 0.5886\n",
      "new unis est parfois froid au printemps mais il est agrã©able agrã©able en <PAD> <PAD> <PAD> <PAD> <PAD> <PAD> <PAD> <PAD>\n"
     ]
    }
   ],
   "source": [
    "def bd_model(input_shape, output_sequence_length, english_vocab_size, french_vocab_size):\n",
    "    \"\"\"\n",
    "    Build and train a bidirectional RNN model on x and y\n",
    "    :param input_shape: Tuple of input shape\n",
    "    :param output_sequence_length: Length of output sequence\n",
    "    :param english_vocab_size: Number of unique English words in the dataset\n",
    "    :param french_vocab_size: Number of unique French words in the dataset\n",
    "    :return: Keras model built, but not trained\n",
    "    \"\"\"\n",
    "\n",
    "    learning_rate = 1e-3\n",
    "    model = Sequential()\n",
    "    model.add(Bidirectional(GRU(128, return_sequences = True, dropout = 0.1), \n",
    "                           input_shape = input_shape[1:]))\n",
    "    model.add(TimeDistributed(Dense(french_vocab_size, activation = 'softmax')))\n",
    "    model.compile(loss = sparse_categorical_crossentropy, \n",
    "                 optimizer = Adam(learning_rate), \n",
    "                 metrics = ['accuracy'])\n",
    "    return model\n",
    "\n",
    "\n",
    "\n",
    "tmp_x = pad(preproc_english_sentences, preproc_french_sentences.shape[1])\n",
    "tmp_x = tmp_x.reshape((-1, preproc_french_sentences.shape[-2], 1))\n",
    "\n",
    "bidi_model = bd_model(\n",
    "    tmp_x.shape,\n",
    "    preproc_french_sentences.shape[1],\n",
    "    len(english_tokenizer.word_index)+1,\n",
    "    len(french_tokenizer.word_index)+1)\n",
    "\n",
    "\n",
    "bidi_model.fit(tmp_x, preproc_french_sentences, batch_size=1024, epochs=20, validation_split=0.2)\n",
    "\n",
    "# Print prediction(s)\n",
    "print(logits_to_text(bidi_model.predict(tmp_x[:1])[0], french_tokenizer))"
   ]
  },
  {
   "cell_type": "markdown",
   "metadata": {},
   "source": [
    "### Model 4: Encoder-Decoder "
   ]
  },
  {
   "cell_type": "code",
   "execution_count": 23,
   "metadata": {},
   "outputs": [
    {
     "name": "stdout",
     "output_type": "stream",
     "text": [
      "Epoch 1/20\n",
      "108/108 [==============================] - 8s 43ms/step - loss: 2.9813 - accuracy: 0.4430 - val_loss: 2.4524 - val_accuracy: 0.4955\n",
      "Epoch 2/20\n",
      "108/108 [==============================] - 4s 37ms/step - loss: 2.3107 - accuracy: 0.5001 - val_loss: 2.2085 - val_accuracy: 0.5067\n",
      "Epoch 3/20\n",
      "108/108 [==============================] - 4s 37ms/step - loss: 2.0856 - accuracy: 0.5163 - val_loss: 1.9217 - val_accuracy: 0.5253\n",
      "Epoch 4/20\n",
      "108/108 [==============================] - 4s 37ms/step - loss: 1.8331 - accuracy: 0.5477 - val_loss: 1.7507 - val_accuracy: 0.5597\n",
      "Epoch 5/20\n",
      "108/108 [==============================] - 4s 37ms/step - loss: 1.7005 - accuracy: 0.5677 - val_loss: 1.6518 - val_accuracy: 0.5773\n",
      "Epoch 6/20\n",
      "108/108 [==============================] - 4s 37ms/step - loss: 1.6159 - accuracy: 0.5773 - val_loss: 1.5780 - val_accuracy: 0.5849\n",
      "Epoch 7/20\n",
      "108/108 [==============================] - 4s 37ms/step - loss: 1.5466 - accuracy: 0.5872 - val_loss: 1.5179 - val_accuracy: 0.5885\n",
      "Epoch 8/20\n",
      "108/108 [==============================] - 4s 37ms/step - loss: 1.4906 - accuracy: 0.5938 - val_loss: 1.4646 - val_accuracy: 0.6003\n",
      "Epoch 9/20\n",
      "108/108 [==============================] - 4s 37ms/step - loss: 1.4562 - accuracy: 0.6022 - val_loss: 1.4334 - val_accuracy: 0.6063\n",
      "Epoch 10/20\n",
      "108/108 [==============================] - 4s 37ms/step - loss: 1.4046 - accuracy: 0.6148 - val_loss: 1.3851 - val_accuracy: 0.6187\n",
      "Epoch 11/20\n",
      "108/108 [==============================] - 4s 37ms/step - loss: 1.3703 - accuracy: 0.6207 - val_loss: 1.3545 - val_accuracy: 0.6237\n",
      "Epoch 12/20\n",
      "108/108 [==============================] - 4s 37ms/step - loss: 1.3437 - accuracy: 0.6270 - val_loss: 1.3303 - val_accuracy: 0.6294\n",
      "Epoch 13/20\n",
      "108/108 [==============================] - 4s 37ms/step - loss: 1.3215 - accuracy: 0.6321 - val_loss: 1.3116 - val_accuracy: 0.6341\n",
      "Epoch 14/20\n",
      "108/108 [==============================] - 4s 37ms/step - loss: 1.3031 - accuracy: 0.6350 - val_loss: 1.2949 - val_accuracy: 0.6350\n",
      "Epoch 15/20\n",
      "108/108 [==============================] - 4s 37ms/step - loss: 1.2907 - accuracy: 0.6356 - val_loss: 1.2748 - val_accuracy: 0.6378\n",
      "Epoch 16/20\n",
      "108/108 [==============================] - 4s 37ms/step - loss: 1.2677 - accuracy: 0.6388 - val_loss: 1.2605 - val_accuracy: 0.6406\n",
      "Epoch 17/20\n",
      "108/108 [==============================] - 4s 37ms/step - loss: 1.2599 - accuracy: 0.6390 - val_loss: 1.2462 - val_accuracy: 0.6418\n",
      "Epoch 18/20\n",
      "108/108 [==============================] - 4s 37ms/step - loss: 1.2388 - accuracy: 0.6427 - val_loss: 1.2299 - val_accuracy: 0.6432\n",
      "Epoch 19/20\n",
      "108/108 [==============================] - 4s 37ms/step - loss: 1.2234 - accuracy: 0.6444 - val_loss: 1.2123 - val_accuracy: 0.6456\n",
      "Epoch 20/20\n",
      "108/108 [==============================] - 4s 37ms/step - loss: 1.2119 - accuracy: 0.6471 - val_loss: 1.2096 - val_accuracy: 0.6438\n",
      "new jersey est parfois agrã©able en mois mais il est il en en <PAD> <PAD> <PAD> <PAD> <PAD> <PAD> <PAD> <PAD>\n"
     ]
    }
   ],
   "source": [
    "def encdec_model(input_shape, output_sequence_length, english_vocab_size, french_vocab_size):\n",
    "    \"\"\"\n",
    "    Build and train an encoder-decoder model on x and y\n",
    "    :param input_shape: Tuple of input shape\n",
    "    :param output_sequence_length: Length of output sequence\n",
    "    :param english_vocab_size: Number of unique English words in the dataset\n",
    "    :param french_vocab_size: Number of unique French words in the dataset\n",
    "    :return: Keras model built, but not trained\n",
    "    \"\"\"\n",
    "\n",
    "    learning_rate = 1e-3\n",
    "    model = Sequential()\n",
    "    model.add(GRU(128, input_shape = input_shape[1:], return_sequences = False))\n",
    "    model.add(RepeatVector(output_sequence_length))\n",
    "    model.add(GRU(128, return_sequences = True))\n",
    "    model.add(TimeDistributed(Dense(french_vocab_size, activation = 'softmax')))\n",
    "    \n",
    "    model.compile(loss = sparse_categorical_crossentropy, \n",
    "                 optimizer = Adam(learning_rate), \n",
    "                 metrics = ['accuracy'])\n",
    "    return model\n",
    "\n",
    "\n",
    "tmp_x = pad(preproc_english_sentences)\n",
    "tmp_x = tmp_x.reshape((-1, preproc_english_sentences.shape[1], 1))\n",
    "\n",
    "encodeco_model = encdec_model(\n",
    "    tmp_x.shape,\n",
    "    preproc_french_sentences.shape[1],\n",
    "    len(english_tokenizer.word_index)+1,\n",
    "    len(french_tokenizer.word_index)+1)\n",
    "\n",
    "encodeco_model.fit(tmp_x, preproc_french_sentences, batch_size=1024, epochs=20, validation_split=0.2)\n",
    "\n",
    "print(logits_to_text(encodeco_model.predict(tmp_x[:1])[0], french_tokenizer))"
   ]
  },
  {
   "cell_type": "markdown",
   "metadata": {},
   "source": [
    "### Model 5: Custom (IMPLEMENTATION)"
   ]
  },
  {
   "cell_type": "code",
   "execution_count": 24,
   "metadata": {},
   "outputs": [
    {
     "name": "stdout",
     "output_type": "stream",
     "text": [
      "Final Model Loaded\n"
     ]
    }
   ],
   "source": [
    "def model_final(input_shape, output_sequence_length, english_vocab_size, french_vocab_size):\n",
    "    \"\"\"\n",
    "    Build and train a model that incorporates embedding, encoder-decoder, and bidirectional RNN on x and y\n",
    "    :param input_shape: Tuple of input shape\n",
    "    :param output_sequence_length: Length of output sequence\n",
    "    :param english_vocab_size: Number of unique English words in the dataset\n",
    "    :param french_vocab_size: Number of unique French words in the dataset\n",
    "    :return: Keras model built, but not trained\n",
    "    \"\"\"\n",
    "    model = Sequential()\n",
    "    model.add(Embedding(input_dim=english_vocab_size,output_dim=128,input_length=input_shape[1]))\n",
    "    model.add(Bidirectional(GRU(256,return_sequences=False)))\n",
    "    model.add(RepeatVector(output_sequence_length))\n",
    "    model.add(Bidirectional(GRU(256,return_sequences=True)))\n",
    "    model.add(TimeDistributed(Dense(french_vocab_size,activation='softmax')))\n",
    "    learning_rate = 0.005\n",
    "    \n",
    "    model.compile(loss = sparse_categorical_crossentropy, \n",
    "                 optimizer = Adam(learning_rate), \n",
    "                 metrics = ['accuracy'])\n",
    "    \n",
    "    return model\n",
    "\n",
    "\n",
    "\n",
    "print('Final Model Loaded')\n",
    "# TODO: Train the final model"
   ]
  },
  {
   "cell_type": "markdown",
   "metadata": {},
   "source": [
    "## Prediction (IMPLEMENTATION)"
   ]
  },
  {
   "cell_type": "code",
   "execution_count": 25,
   "metadata": {},
   "outputs": [
    {
     "data": {
      "text/plain": [
       "(200, 346)"
      ]
     },
     "execution_count": 25,
     "metadata": {},
     "output_type": "execute_result"
    }
   ],
   "source": [
    "len(english_tokenizer.word_index)+1, len(french_tokenizer.word_index)+1"
   ]
  },
  {
   "cell_type": "code",
   "execution_count": 26,
   "metadata": {
    "scrolled": false
   },
   "outputs": [
    {
     "name": "stdout",
     "output_type": "stream",
     "text": [
      "Epoch 1/17\n",
      "108/108 [==============================] - 24s 169ms/step - loss: 2.0824 - accuracy: 0.5257 - val_loss: 1.3060 - val_accuracy: 0.6517\n",
      "Epoch 2/17\n",
      "108/108 [==============================] - 17s 158ms/step - loss: 1.0015 - accuracy: 0.7185 - val_loss: 0.7428 - val_accuracy: 0.7803\n",
      "Epoch 3/17\n",
      "108/108 [==============================] - 17s 158ms/step - loss: 0.5566 - accuracy: 0.8321 - val_loss: 0.4051 - val_accuracy: 0.8785\n",
      "Epoch 4/17\n",
      "108/108 [==============================] - 17s 159ms/step - loss: 0.2847 - accuracy: 0.9164 - val_loss: 0.2342 - val_accuracy: 0.9317\n",
      "Epoch 5/17\n",
      "108/108 [==============================] - 17s 159ms/step - loss: 0.1814 - accuracy: 0.9468 - val_loss: 0.1558 - val_accuracy: 0.9537\n",
      "Epoch 6/17\n",
      "108/108 [==============================] - 17s 159ms/step - loss: 0.1430 - accuracy: 0.9575 - val_loss: 0.1324 - val_accuracy: 0.9617\n",
      "Epoch 7/17\n",
      "108/108 [==============================] - 17s 159ms/step - loss: 0.1095 - accuracy: 0.9675 - val_loss: 0.1121 - val_accuracy: 0.9667\n",
      "Epoch 8/17\n",
      "108/108 [==============================] - 17s 159ms/step - loss: 0.1077 - accuracy: 0.9680 - val_loss: 0.1411 - val_accuracy: 0.9583\n",
      "Epoch 9/17\n",
      "108/108 [==============================] - 17s 159ms/step - loss: 0.0914 - accuracy: 0.9727 - val_loss: 0.0942 - val_accuracy: 0.9721\n",
      "Epoch 10/17\n",
      "108/108 [==============================] - 17s 159ms/step - loss: 0.0711 - accuracy: 0.9790 - val_loss: 0.1111 - val_accuracy: 0.9686\n",
      "Epoch 11/17\n",
      "108/108 [==============================] - 17s 159ms/step - loss: 0.0699 - accuracy: 0.9793 - val_loss: 0.0852 - val_accuracy: 0.9754\n",
      "Epoch 12/17\n",
      "108/108 [==============================] - 17s 159ms/step - loss: 0.0571 - accuracy: 0.9832 - val_loss: 0.0763 - val_accuracy: 0.9783\n",
      "Epoch 13/17\n",
      "108/108 [==============================] - 17s 159ms/step - loss: 0.0478 - accuracy: 0.9861 - val_loss: 0.0990 - val_accuracy: 0.9723\n",
      "Epoch 14/17\n",
      "108/108 [==============================] - 17s 159ms/step - loss: 0.0539 - accuracy: 0.9841 - val_loss: 0.1188 - val_accuracy: 0.9681\n",
      "Epoch 15/17\n",
      "108/108 [==============================] - 17s 159ms/step - loss: 0.0750 - accuracy: 0.9779 - val_loss: 0.0890 - val_accuracy: 0.9749\n",
      "Epoch 16/17\n",
      "108/108 [==============================] - 17s 159ms/step - loss: 0.0511 - accuracy: 0.9849 - val_loss: 0.0757 - val_accuracy: 0.9792\n",
      "Epoch 17/17\n",
      "108/108 [==============================] - 17s 159ms/step - loss: 0.0528 - accuracy: 0.9847 - val_loss: 0.0787 - val_accuracy: 0.9783\n"
     ]
    },
    {
     "data": {
      "text/plain": [
       "<tensorflow.python.keras.callbacks.History at 0x17f480b2490>"
      ]
     },
     "execution_count": 26,
     "metadata": {},
     "output_type": "execute_result"
    }
   ],
   "source": [
    "from tensorflow.keras.models import Sequential\n",
    "\n",
    "\"\"\"\n",
    "Gets predictions using the final model\n",
    ":param x: Preprocessed English data\n",
    ":param y: Preprocessed French data\n",
    ":param x_tk: English tokenizer\n",
    ":param y_tk: French tokenizer\n",
    "\"\"\"\n",
    "\n",
    "tmp_X = pad(preproc_english_sentences)\n",
    "model = model_final(tmp_X.shape,\n",
    "                    preproc_french_sentences.shape[1],\n",
    "                    len(english_tokenizer.word_index)+1,\n",
    "                    len(french_tokenizer.word_index)+1)\n",
    "\n",
    "model.fit(tmp_X, preproc_french_sentences, batch_size = 1024, epochs = 17, validation_split = 0.2)\n"
   ]
  },
  {
   "cell_type": "code",
   "execution_count": null,
   "metadata": {},
   "outputs": [],
   "source": []
  },
  {
   "cell_type": "code",
   "execution_count": 27,
   "metadata": {},
   "outputs": [
    {
     "data": {
      "text/plain": [
       "{1: 'est',\n",
       " 2: 'en',\n",
       " 3: 'il',\n",
       " 4: 'les',\n",
       " 5: 'mais',\n",
       " 6: 'et',\n",
       " 7: 'la',\n",
       " 8: 'parfois',\n",
       " 9: 'jamais',\n",
       " 10: 'le',\n",
       " 11: \"l'\",\n",
       " 12: 'gã©nã©ralement',\n",
       " 13: 'moins',\n",
       " 14: 'aimã©',\n",
       " 15: 'au',\n",
       " 16: 'fruit',\n",
       " 17: 'prã©fã©rã©',\n",
       " 18: 'agrã©able',\n",
       " 19: 'froid',\n",
       " 20: 'son',\n",
       " 21: 'chaud',\n",
       " 22: 'de',\n",
       " 23: 'plus',\n",
       " 24: 'automne',\n",
       " 25: 'mois',\n",
       " 26: 'ã\\xa0',\n",
       " 27: 'elle',\n",
       " 28: 'citrons',\n",
       " 29: 'paris',\n",
       " 30: 'inde',\n",
       " 31: 'unis',\n",
       " 32: 'ã©tats',\n",
       " 33: 'france',\n",
       " 34: 'jersey',\n",
       " 35: 'new',\n",
       " 36: 'chine',\n",
       " 37: 'pendant',\n",
       " 38: 'pamplemousse',\n",
       " 39: 'mon',\n",
       " 40: 'votre',\n",
       " 41: 'juin',\n",
       " 42: 'printemps',\n",
       " 43: 'janvier',\n",
       " 44: 'hiver',\n",
       " 45: 'mars',\n",
       " 46: 'ã©tã©',\n",
       " 47: 'mai',\n",
       " 48: 'septembre',\n",
       " 49: 'juillet',\n",
       " 50: 'avril',\n",
       " 51: 'novembre',\n",
       " 52: 'dã©cembre',\n",
       " 53: 'fã©vrier',\n",
       " 54: 'octobre',\n",
       " 55: 'aime',\n",
       " 56: 'aoã»t',\n",
       " 57: 'merveilleux',\n",
       " 58: 'relaxant',\n",
       " 59: 'doux',\n",
       " 60: 'humide',\n",
       " 61: 'notre',\n",
       " 62: 'californie',\n",
       " 63: 'sec',\n",
       " 64: 'leur',\n",
       " 65: 'occupã©',\n",
       " 66: 'pluvieux',\n",
       " 67: 'calme',\n",
       " 68: 'beau',\n",
       " 69: 'habituellement',\n",
       " 70: 'pommes',\n",
       " 71: 'pãªches',\n",
       " 72: 'oranges',\n",
       " 73: 'poires',\n",
       " 74: 'fraises',\n",
       " 75: 'bananes',\n",
       " 76: 'verts',\n",
       " 77: 'raisins',\n",
       " 78: 'mangues',\n",
       " 79: \"d'\",\n",
       " 80: 'mangue',\n",
       " 81: 'gel',\n",
       " 82: 'raisin',\n",
       " 83: 'pomme',\n",
       " 84: \"l'orange\",\n",
       " 85: 'citron',\n",
       " 86: 'chaux',\n",
       " 87: 'banane',\n",
       " 88: 'poire',\n",
       " 89: 'fraise',\n",
       " 90: 'pãªche',\n",
       " 91: 'pas',\n",
       " 92: 'enneigã©e',\n",
       " 93: 'favori',\n",
       " 94: 'dã©teste',\n",
       " 95: 'gã¨le',\n",
       " 96: 'fruits',\n",
       " 97: 'voiture',\n",
       " 98: \"l'automne\",\n",
       " 99: 'ils',\n",
       " 100: \"n'aime\",\n",
       " 101: 'california',\n",
       " 102: 'neige',\n",
       " 103: 'fait',\n",
       " 104: 'belle',\n",
       " 105: 'ne',\n",
       " 106: 'vous',\n",
       " 107: 'nous',\n",
       " 108: 'des',\n",
       " 109: 'animal',\n",
       " 110: 'camion',\n",
       " 111: 'cours',\n",
       " 112: 'neigeux',\n",
       " 113: 'conduit',\n",
       " 114: 'prochain',\n",
       " 115: 'ce',\n",
       " 116: 'je',\n",
       " 117: 'tranquille',\n",
       " 118: 'a',\n",
       " 119: 'cher',\n",
       " 120: 'une',\n",
       " 121: 'cette',\n",
       " 122: 'ã©tait',\n",
       " 123: 'aller',\n",
       " 124: 'aiment',\n",
       " 125: 'chaude',\n",
       " 126: 'aimons',\n",
       " 127: \"n'aiment\",\n",
       " 128: \"n'aimez\",\n",
       " 129: 'leurs',\n",
       " 130: 'aimez',\n",
       " 131: 'sont',\n",
       " 132: 'dã©testons',\n",
       " 133: 'jaune',\n",
       " 134: 'rouge',\n",
       " 135: \"j'aime\",\n",
       " 136: 'visiter',\n",
       " 137: 'sã¨che',\n",
       " 138: 'occupã©e',\n",
       " 139: 'frisquet',\n",
       " 140: 'prã©fã©rã©e',\n",
       " 141: 'animaux',\n",
       " 142: 'dernier',\n",
       " 143: 'aimait',\n",
       " 144: 'un',\n",
       " 145: 'conduisait',\n",
       " 146: 'que',\n",
       " 147: 'nouvelle',\n",
       " 148: 'vieille',\n",
       " 149: 'vu',\n",
       " 150: 'verte',\n",
       " 151: 'petite',\n",
       " 152: 'nos',\n",
       " 153: 'noire',\n",
       " 154: 'brillant',\n",
       " 155: 'blanche',\n",
       " 156: 'redoutã©',\n",
       " 157: 'pleut',\n",
       " 158: \"n'aimait\",\n",
       " 159: 'pamplemousses',\n",
       " 160: 'pense',\n",
       " 161: 'entre',\n",
       " 162: 'bleue',\n",
       " 163: 'nouveau',\n",
       " 164: 'traduire',\n",
       " 165: 'rouillã©e',\n",
       " 166: 'bleu',\n",
       " 167: 'se',\n",
       " 168: 'grande',\n",
       " 169: 'rouillã©',\n",
       " 170: 'ses',\n",
       " 171: \"qu'il\",\n",
       " 172: 'blanc',\n",
       " 173: 'aux',\n",
       " 174: 'brillante',\n",
       " 175: 'prã©fã©rã©s',\n",
       " 176: 'noir',\n",
       " 177: 'pluies',\n",
       " 178: 'envisage',\n",
       " 179: 'ã©taient',\n",
       " 180: 'va',\n",
       " 181: 'rendre',\n",
       " 182: 'vert',\n",
       " 183: 'vieux',\n",
       " 184: 'petit',\n",
       " 185: 'espagnol',\n",
       " 186: 'portugais',\n",
       " 187: 'chinois',\n",
       " 188: 'anglais',\n",
       " 189: 'franã§ais',\n",
       " 190: 'glaciales',\n",
       " 191: 'mes',\n",
       " 192: 'cet',\n",
       " 193: 'automobile',\n",
       " 194: 'traduction',\n",
       " 195: 'mouillã©',\n",
       " 196: 'difficile',\n",
       " 197: 'amusant',\n",
       " 198: 'facile',\n",
       " 199: 'comme',\n",
       " 200: 'gros',\n",
       " 201: 'souris',\n",
       " 202: 'pourrait',\n",
       " 203: 'voulait',\n",
       " 204: 'veut',\n",
       " 205: 'pourquoi',\n",
       " 206: 'aimã©s',\n",
       " 207: 'prã©vois',\n",
       " 208: 'prã©voyons',\n",
       " 209: 'vos',\n",
       " 210: 'intention',\n",
       " 211: 'clã©mentes',\n",
       " 212: 'ont',\n",
       " 213: 'chat',\n",
       " 214: 'requin',\n",
       " 215: 'cheval',\n",
       " 216: 'chien',\n",
       " 217: 'singe',\n",
       " 218: 'lion',\n",
       " 219: 'ours',\n",
       " 220: 'lapin',\n",
       " 221: 'serpent',\n",
       " 222: 'redoutã©s',\n",
       " 223: 'allã©',\n",
       " 224: 'grosse',\n",
       " 225: 'pluie',\n",
       " 226: 'trop',\n",
       " 227: 'monde',\n",
       " 228: 'maillot',\n",
       " 229: 'vont',\n",
       " 230: 'volant',\n",
       " 231: 'avez',\n",
       " 232: 'i',\n",
       " 233: 'allã©s',\n",
       " 234: 'allã©e',\n",
       " 235: 'quand',\n",
       " 236: 'oiseau',\n",
       " 237: 'ã©lã©phant',\n",
       " 238: 'pourraient',\n",
       " 239: 'voulaient',\n",
       " 240: 'veulent',\n",
       " 241: 'dã©tendre',\n",
       " 242: 'aimã©e',\n",
       " 243: 'magnifique',\n",
       " 244: \"l'automobile\",\n",
       " 245: \"n'aimons\",\n",
       " 246: 'gelã©',\n",
       " 247: 'dã©testait',\n",
       " 248: 'grand',\n",
       " 249: 'bien',\n",
       " 250: 'vers',\n",
       " 251: 'prã©voient',\n",
       " 252: 'prã©voit',\n",
       " 253: 'lui',\n",
       " 254: 'visite',\n",
       " 255: 'comment',\n",
       " 256: 'ã©lã©phants',\n",
       " 257: 'chevaux',\n",
       " 258: 'chiens',\n",
       " 259: \"l'ã©lã©phant\",\n",
       " 260: \"l'oiseau\",\n",
       " 261: 'requins',\n",
       " 262: \"l'ours\",\n",
       " 263: 'serpents',\n",
       " 264: 'chats',\n",
       " 265: 'lapins',\n",
       " 266: 'singes',\n",
       " 267: 'oiseaux',\n",
       " 268: 'lions',\n",
       " 269: 'lã©gã¨re',\n",
       " 270: 'cã©page',\n",
       " 271: 'pensez',\n",
       " 272: 'ã‰tats',\n",
       " 273: 'tour',\n",
       " 274: 'eiffel',\n",
       " 275: \"l'ã©picerie\",\n",
       " 276: 'terrain',\n",
       " 277: 'football',\n",
       " 278: 'lac',\n",
       " 279: \"l'ã©cole\",\n",
       " 280: \"l'animal\",\n",
       " 281: \"n'est\",\n",
       " 282: 'allons',\n",
       " 283: 'allez',\n",
       " 284: 'peu',\n",
       " 285: 'pousse',\n",
       " 286: 'du',\n",
       " 287: 'temps',\n",
       " 288: 'at',\n",
       " 289: 'rouille',\n",
       " 290: 'sur',\n",
       " 291: \"qu'elle\",\n",
       " 292: 'petites',\n",
       " 293: 'derniã¨re',\n",
       " 294: 'ãªtes',\n",
       " 295: 'vais',\n",
       " 296: 'voudrait',\n",
       " 297: 'proches',\n",
       " 298: 'frais',\n",
       " 299: 'manguiers',\n",
       " 300: 'avons',\n",
       " 301: 't',\n",
       " 302: 'porcelaine',\n",
       " 303: 'dã©testez',\n",
       " 304: \"c'est\",\n",
       " 305: 'grandes',\n",
       " 306: 'prã©fã©rã©es',\n",
       " 307: 'douce',\n",
       " 308: 'durant',\n",
       " 309: 'congã©lation',\n",
       " 310: 'plaã®t',\n",
       " 311: 'oã¹',\n",
       " 312: 'dans',\n",
       " 313: 'voulez',\n",
       " 314: 'aimeraient',\n",
       " 315: \"n'a\",\n",
       " 316: 'petits',\n",
       " 317: 'grands',\n",
       " 318: 'limes',\n",
       " 319: 'envisagent',\n",
       " 320: 'grosses',\n",
       " 321: 'bã©nigne',\n",
       " 322: 'mouillã©e',\n",
       " 323: 'enneigã©',\n",
       " 324: 'moindres',\n",
       " 325: 'conduite',\n",
       " 326: 'gelã©s',\n",
       " 327: 'tout',\n",
       " 328: 'etats',\n",
       " 329: \"n'ãªtes\",\n",
       " 330: 'vit',\n",
       " 331: 'ressort',\n",
       " 332: 'dã©tend',\n",
       " 333: 'redoutã©e',\n",
       " 334: 'tu',\n",
       " 335: 'qui',\n",
       " 336: 'traduis',\n",
       " 337: 'apprã©ciã©',\n",
       " 338: 'allions',\n",
       " 339: 'trouvã©',\n",
       " 340: 'as',\n",
       " 341: 'faire',\n",
       " 342: 'favoris',\n",
       " 343: 'souvent',\n",
       " 344: 'es',\n",
       " 345: 'moteur',\n",
       " 0: '<PAD>'}"
      ]
     },
     "execution_count": 27,
     "metadata": {},
     "output_type": "execute_result"
    }
   ],
   "source": [
    "y_id_to_word = {value: key for key, value in french_tokenizer.word_index.items()}\n",
    "y_id_to_word[0] = '<PAD>'\n",
    "y_id_to_word"
   ]
  },
  {
   "cell_type": "code",
   "execution_count": 28,
   "metadata": {},
   "outputs": [
    {
     "data": {
      "text/plain": [
       "[26, 127, 100, 111, 112, 101]"
      ]
     },
     "execution_count": 28,
     "metadata": {},
     "output_type": "execute_result"
    }
   ],
   "source": [
    "sentence = 'he saw a old yellow truck'\n",
    "sentence = [english_tokenizer.word_index[word] for word in sentence.split()]\n",
    "sentence"
   ]
  },
  {
   "cell_type": "code",
   "execution_count": 29,
   "metadata": {},
   "outputs": [
    {
     "data": {
      "text/plain": [
       "array([[ 26, 127, 100, 111, 112, 101,   0,   0,   0,   0,   0,   0,   0,\n",
       "          0,   0]])"
      ]
     },
     "execution_count": 29,
     "metadata": {},
     "output_type": "execute_result"
    }
   ],
   "source": [
    "sentence = pad_sequences([sentence], maxlen=preproc_english_sentences.shape[-1], padding='post')\n",
    "sentence"
   ]
  },
  {
   "cell_type": "code",
   "execution_count": 30,
   "metadata": {},
   "outputs": [
    {
     "data": {
      "text/plain": [
       "array([[ 26, 127, 100, 111, 112, 101,   0,   0,   0,   0,   0,   0,   0,\n",
       "          0,   0]])"
      ]
     },
     "execution_count": 30,
     "metadata": {},
     "output_type": "execute_result"
    }
   ],
   "source": [
    "sentences = np.array([sentence[0], preproc_english_sentences[0]])\n",
    "sentence"
   ]
  },
  {
   "cell_type": "code",
   "execution_count": 31,
   "metadata": {},
   "outputs": [
    {
     "name": "stdout",
     "output_type": "stream",
     "text": [
      "WARNING:tensorflow:5 out of the last 5 calls to <function Model.make_predict_function.<locals>.predict_function at 0x0000017F54361670> triggered tf.function retracing. Tracing is expensive and the excessive number of tracings could be due to (1) creating @tf.function repeatedly in a loop, (2) passing tensors with different shapes, (3) passing Python objects instead of tensors. For (1), please define your @tf.function outside of the loop. For (2), @tf.function has experimental_relax_shapes=True option that relaxes argument shapes that can avoid unnecessary retracing. For (3), please refer to https://www.tensorflow.org/guide/function#controlling_retracing and https://www.tensorflow.org/api_docs/python/tf/function for  more details.\n"
     ]
    }
   ],
   "source": [
    "predictions = model.predict(sentences, len(sentences))"
   ]
  },
  {
   "cell_type": "code",
   "execution_count": 32,
   "metadata": {},
   "outputs": [
    {
     "name": "stdout",
     "output_type": "stream",
     "text": [
      "Sample 1:\n",
      "il a vu un vieux camion jaune <PAD> <PAD> <PAD> <PAD> <PAD> <PAD> <PAD> <PAD> <PAD> <PAD> <PAD> <PAD> <PAD> <PAD>\n",
      "Il a vu un vieux camion jaune\n"
     ]
    }
   ],
   "source": [
    "print('Sample 1:')\n",
    "print(' '.join([y_id_to_word[np.argmax(x)] for x in predictions[0]]))\n",
    "print('Il a vu un vieux camion jaune')"
   ]
  },
  {
   "cell_type": "code",
   "execution_count": 33,
   "metadata": {},
   "outputs": [
    {
     "name": "stdout",
     "output_type": "stream",
     "text": [
      "Sample 2:\n",
      "new jersey est parfois calme pendant l' automne et il est neigeux en avril <PAD> <PAD> <PAD> <PAD> <PAD> <PAD> <PAD>\n",
      "new jersey est parfois calme pendant l' automne et il est neigeux en avril <PAD> <PAD> <PAD> <PAD> <PAD> <PAD> <PAD>\n"
     ]
    }
   ],
   "source": [
    "print('Sample 2:')\n",
    "print(' '.join([y_id_to_word[np.argmax(x)] for x in predictions[1]]))\n",
    "print(' '.join([y_id_to_word[np.max(x)] for x in preproc_french_sentences[0]]))"
   ]
  },
  {
   "cell_type": "code",
   "execution_count": 35,
   "metadata": {},
   "outputs": [
    {
     "name": "stdout",
     "output_type": "stream",
     "text": [
      "Model saved\n",
      "Tokenizer saved\n"
     ]
    }
   ],
   "source": [
    "import pickle\n",
    "\n",
    "# serialize model to JSON\n",
    "model_json = model.to_json()\n",
    "with open(\"translator_model.json\", \"w\") as json_file:\n",
    "    json_file.write(model_json)\n",
    "    \n",
    "# saving model\n",
    "model.save('translator_model.h5')\n",
    "print(\"Model saved\")\n",
    "\n",
    "# saving tokenizer\n",
    "with open('english_tokenizer.pickle', 'wb') as handle:\n",
    "    pickle.dump(english_tokenizer, handle, protocol=pickle.HIGHEST_PROTOCOL)\n",
    "\n",
    "# saving tokenizer\n",
    "with open('french_tokenizer.pickle', 'wb') as handle:\n",
    "    pickle.dump(french_tokenizer, handle, protocol=pickle.HIGHEST_PROTOCOL)\n",
    "print('Tokenizer saved')"
   ]
  },
  {
   "cell_type": "code",
   "execution_count": null,
   "metadata": {},
   "outputs": [],
   "source": []
  }
 ],
 "metadata": {
  "kernelspec": {
   "display_name": "Python 3 (ipykernel)",
   "language": "python",
   "name": "python3"
  },
  "language_info": {
   "codemirror_mode": {
    "name": "ipython",
    "version": 3
   },
   "file_extension": ".py",
   "mimetype": "text/x-python",
   "name": "python",
   "nbconvert_exporter": "python",
   "pygments_lexer": "ipython3",
   "version": "3.9.7"
  }
 },
 "nbformat": 4,
 "nbformat_minor": 1
}
